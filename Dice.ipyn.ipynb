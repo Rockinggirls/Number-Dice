{
 "cells": [
  {
   "cell_type": "code",
   "execution_count": 1,
   "metadata": {},
   "outputs": [],
   "source": [
    "import random\n",
    "import tkinter \n",
    "import tkinter.messagebox\n",
    "\n",
    "top = tkinter.Tk()\n",
    "def dice():\n",
    "  #for i in range(0,1):\n",
    "  num = random.choice(range(1,6))\n",
    "  tkinter.messagebox.showinfo(\"Dice\",num)\n",
    "\n",
    "b = tkinter.Button(top, text=\"Dice\", command = dice)\n",
    "\n",
    "b.pack()\n",
    "top.mainloop()"
   ]
  }
 ],
 "metadata": {
  "kernelspec": {
   "display_name": "Python 3.8.10 64-bit",
   "language": "python",
   "name": "python3"
  },
  "language_info": {
   "codemirror_mode": {
    "name": "ipython",
    "version": 3
   },
   "file_extension": ".py",
   "mimetype": "text/x-python",
   "name": "python",
   "nbconvert_exporter": "python",
   "pygments_lexer": "ipython3",
   "version": "3.8.10"
  },
  "orig_nbformat": 4,
  "vscode": {
   "interpreter": {
    "hash": "6a926afa313b26ae1264fdcf81c726a97e69f6ba2ba780f6aa901948710f8d6e"
   }
  }
 },
 "nbformat": 4,
 "nbformat_minor": 2
}
